{
 "cells": [
  {
   "cell_type": "markdown",
   "metadata": {},
   "source": [
    "# Midterm Assignment"
   ]
  },
  {
   "cell_type": "markdown",
   "metadata": {},
   "source": [
    "### Import necessary libraries"
   ]
  },
  {
   "cell_type": "code",
   "execution_count": 41,
   "metadata": {},
   "outputs": [
    {
     "data": {
      "text/html": [
       "\n",
       "            <div id=\"QGBOus\"></div>\n",
       "            <script type=\"text/javascript\" data-lets-plot-script=\"library\">\n",
       "                if(!window.letsPlotCallQueue) {\n",
       "                    window.letsPlotCallQueue = [];\n",
       "                }; \n",
       "                window.letsPlotCall = function(f) {\n",
       "                    window.letsPlotCallQueue.push(f);\n",
       "                };\n",
       "                (function() {\n",
       "                    var script = document.createElement(\"script\");\n",
       "                    script.type = \"text/javascript\";\n",
       "                    script.src = \"https://cdn.jsdelivr.net/gh/JetBrains/lets-plot@v4.4.1/js-package/distr/lets-plot.min.js\";\n",
       "                    script.onload = function() {\n",
       "                        window.letsPlotCall = function(f) {f();};\n",
       "                        window.letsPlotCallQueue.forEach(function(f) {f();});\n",
       "                        window.letsPlotCallQueue = [];\n",
       "                        \n",
       "                    };\n",
       "                    script.onerror = function(event) {\n",
       "                        window.letsPlotCall = function(f) {};    // noop\n",
       "                        window.letsPlotCallQueue = [];\n",
       "                        var div = document.createElement(\"div\");\n",
       "                        div.style.color = 'darkred';\n",
       "                        div.textContent = 'Error loading Lets-Plot JS';\n",
       "                        document.getElementById(\"QGBOus\").appendChild(div);\n",
       "                    };\n",
       "                    var e = document.getElementById(\"QGBOus\");\n",
       "                    e.appendChild(script);\n",
       "                })()\n",
       "            </script>\n",
       "            "
      ]
     },
     "metadata": {},
     "output_type": "display_data"
    }
   ],
   "source": [
    "import pandas as pd\n",
    "import os\n",
    "from lets_plot import *\n",
    "LetsPlot.setup_html()"
   ]
  },
  {
   "cell_type": "markdown",
   "metadata": {},
   "source": [
    "### Read the datasets"
   ]
  },
  {
   "cell_type": "code",
   "execution_count": 42,
   "metadata": {},
   "outputs": [
    {
     "data": {
      "text/plain": [
       "['baby-child-and-parent.csv',\n",
       " 'bakery.csv',\n",
       " 'beer-wine-and-spirits.csv',\n",
       " 'best-of-british.csv',\n",
       " 'dietary-and-lifestyle.csv',\n",
       " 'everyday-value.csv',\n",
       " 'food-cupboard.csv',\n",
       " 'fresh-and-chilled.csv',\n",
       " 'frozen.csv',\n",
       " 'home.csv',\n",
       " 'household.csv',\n",
       " 'new.csv',\n",
       " 'organic-shop.csv',\n",
       " 'pet.csv',\n",
       " 'summer.csv',\n",
       " 'tea-coffee-and-soft-drinks.csv',\n",
       " 'toiletries-health-and-beauty.csv',\n",
       " 'waitrose-brands.csv']"
      ]
     },
     "execution_count": 42,
     "metadata": {},
     "output_type": "execute_result"
    }
   ],
   "source": [
    "all_files = [file for file in os.listdir('../data/waitrose') if file.endswith('.csv')]\n",
    "\n",
    "all_files\n"
   ]
  },
  {
   "cell_type": "code",
   "execution_count": 43,
   "metadata": {},
   "outputs": [
    {
     "data": {
      "text/plain": [
       "['../data/waitrose/baby-child-and-parent.csv',\n",
       " '../data/waitrose/bakery.csv',\n",
       " '../data/waitrose/beer-wine-and-spirits.csv',\n",
       " '../data/waitrose/best-of-british.csv',\n",
       " '../data/waitrose/dietary-and-lifestyle.csv',\n",
       " '../data/waitrose/everyday-value.csv',\n",
       " '../data/waitrose/food-cupboard.csv',\n",
       " '../data/waitrose/fresh-and-chilled.csv',\n",
       " '../data/waitrose/frozen.csv',\n",
       " '../data/waitrose/home.csv',\n",
       " '../data/waitrose/household.csv',\n",
       " '../data/waitrose/new.csv',\n",
       " '../data/waitrose/organic-shop.csv',\n",
       " '../data/waitrose/pet.csv',\n",
       " '../data/waitrose/summer.csv',\n",
       " '../data/waitrose/tea-coffee-and-soft-drinks.csv',\n",
       " '../data/waitrose/toiletries-health-and-beauty.csv',\n",
       " '../data/waitrose/waitrose-brands.csv']"
      ]
     },
     "execution_count": 43,
     "metadata": {},
     "output_type": "execute_result"
    }
   ],
   "source": [
    "files = []\n",
    "\n",
    "for i in all_files:\n",
    "    f = f'../data/waitrose/{i}'\n",
    "    files.append(f)\n",
    "\n",
    "files"
   ]
  },
  {
   "cell_type": "code",
   "execution_count": null,
   "metadata": {},
   "outputs": [],
   "source": []
  },
  {
   "cell_type": "code",
   "execution_count": 44,
   "metadata": {},
   "outputs": [],
   "source": [
    "df = pd.concat(pd.read_csv(file) for file in files)"
   ]
  },
  {
   "cell_type": "code",
   "execution_count": 45,
   "metadata": {},
   "outputs": [
    {
     "data": {
      "text/plain": [
       "(25418, 13)"
      ]
     },
     "execution_count": 45,
     "metadata": {},
     "output_type": "execute_result"
    }
   ],
   "source": [
    "df.shape"
   ]
  },
  {
   "cell_type": "code",
   "execution_count": 46,
   "metadata": {},
   "outputs": [
    {
     "data": {
      "text/html": [
       "<div>\n",
       "<style scoped>\n",
       "    .dataframe tbody tr th:only-of-type {\n",
       "        vertical-align: middle;\n",
       "    }\n",
       "\n",
       "    .dataframe tbody tr th {\n",
       "        vertical-align: top;\n",
       "    }\n",
       "\n",
       "    .dataframe thead th {\n",
       "        text-align: right;\n",
       "    }\n",
       "</style>\n",
       "<table border=\"1\" class=\"dataframe\">\n",
       "  <thead>\n",
       "    <tr style=\"text-align: right;\">\n",
       "      <th></th>\n",
       "      <th>data-product-id</th>\n",
       "      <th>data-product-name</th>\n",
       "      <th>data-product-type</th>\n",
       "      <th>data-product-on-offer</th>\n",
       "      <th>data-product-index</th>\n",
       "      <th>image-url</th>\n",
       "      <th>product-page</th>\n",
       "      <th>product-name</th>\n",
       "      <th>product-size</th>\n",
       "      <th>item-price</th>\n",
       "      <th>price-per-unit</th>\n",
       "      <th>offer-description</th>\n",
       "      <th>category</th>\n",
       "    </tr>\n",
       "  </thead>\n",
       "  <tbody>\n",
       "    <tr>\n",
       "      <th>0</th>\n",
       "      <td>525635</td>\n",
       "      <td>Organix Raspberry &amp; Apple Soft Oaty Bars</td>\n",
       "      <td>G</td>\n",
       "      <td>False</td>\n",
       "      <td>1.0</td>\n",
       "      <td>https://ecom-su-static-prod.wtrecom.com/images...</td>\n",
       "      <td>https://www.waitrose.com/ecom/products/organix...</td>\n",
       "      <td>Organix Raspberry &amp; Apple Soft Oaty Bars</td>\n",
       "      <td>6x23g</td>\n",
       "      <td>£3.15</td>\n",
       "      <td>£2.29/100g</td>\n",
       "      <td>NaN</td>\n",
       "      <td>Baby, Child &amp; Parent</td>\n",
       "    </tr>\n",
       "    <tr>\n",
       "      <th>1</th>\n",
       "      <td>557746</td>\n",
       "      <td>Organix Carrot Cake Oaty Bars</td>\n",
       "      <td>G</td>\n",
       "      <td>False</td>\n",
       "      <td>2.0</td>\n",
       "      <td>https://ecom-su-static-prod.wtrecom.com/images...</td>\n",
       "      <td>https://www.waitrose.com/ecom/products/organix...</td>\n",
       "      <td>Organix Carrot Cake Oaty Bars</td>\n",
       "      <td>6x23g</td>\n",
       "      <td>£3.15</td>\n",
       "      <td>£2.29/100g</td>\n",
       "      <td>NaN</td>\n",
       "      <td>Baby, Child &amp; Parent</td>\n",
       "    </tr>\n",
       "    <tr>\n",
       "      <th>2</th>\n",
       "      <td>32062</td>\n",
       "      <td>Aptamil 2 Follow On Milk</td>\n",
       "      <td>G</td>\n",
       "      <td>False</td>\n",
       "      <td>394.0</td>\n",
       "      <td>https://ecom-su-static-prod.wtrecom.com/images...</td>\n",
       "      <td>https://www.waitrose.com/ecom/products/aptamil...</td>\n",
       "      <td>Aptamil 2 Follow On Milk</td>\n",
       "      <td>800g</td>\n",
       "      <td>£13.50</td>\n",
       "      <td>£16.88/kg</td>\n",
       "      <td>NaN</td>\n",
       "      <td>Baby, Child &amp; Parent</td>\n",
       "    </tr>\n",
       "    <tr>\n",
       "      <th>3</th>\n",
       "      <td>767801</td>\n",
       "      <td>Essential Baby Wipes</td>\n",
       "      <td>G</td>\n",
       "      <td>False</td>\n",
       "      <td>4.0</td>\n",
       "      <td>https://ecom-su-static-prod.wtrecom.com/images...</td>\n",
       "      <td>https://www.waitrose.com/ecom/products/essenti...</td>\n",
       "      <td>Essential Baby Wipes</td>\n",
       "      <td>80s</td>\n",
       "      <td>95p</td>\n",
       "      <td>1.2p each</td>\n",
       "      <td>NaN</td>\n",
       "      <td>Baby, Child &amp; Parent</td>\n",
       "    </tr>\n",
       "    <tr>\n",
       "      <th>4</th>\n",
       "      <td>514054</td>\n",
       "      <td>Organix Apple Rice Cakes</td>\n",
       "      <td>G</td>\n",
       "      <td>False</td>\n",
       "      <td>5.0</td>\n",
       "      <td>https://ecom-su-static-prod.wtrecom.com/images...</td>\n",
       "      <td>https://www.waitrose.com/ecom/products/organix...</td>\n",
       "      <td>Organix Apple Rice Cakes</td>\n",
       "      <td>40g</td>\n",
       "      <td>£1.60</td>\n",
       "      <td>£4/100g</td>\n",
       "      <td>NaN</td>\n",
       "      <td>Baby, Child &amp; Parent</td>\n",
       "    </tr>\n",
       "  </tbody>\n",
       "</table>\n",
       "</div>"
      ],
      "text/plain": [
       "   data-product-id                         data-product-name  \\\n",
       "0           525635  Organix Raspberry & Apple Soft Oaty Bars   \n",
       "1           557746             Organix Carrot Cake Oaty Bars   \n",
       "2            32062                  Aptamil 2 Follow On Milk   \n",
       "3           767801                      Essential Baby Wipes   \n",
       "4           514054                  Organix Apple Rice Cakes   \n",
       "\n",
       "  data-product-type  data-product-on-offer  data-product-index  \\\n",
       "0                 G                  False                 1.0   \n",
       "1                 G                  False                 2.0   \n",
       "2                 G                  False               394.0   \n",
       "3                 G                  False                 4.0   \n",
       "4                 G                  False                 5.0   \n",
       "\n",
       "                                           image-url  \\\n",
       "0  https://ecom-su-static-prod.wtrecom.com/images...   \n",
       "1  https://ecom-su-static-prod.wtrecom.com/images...   \n",
       "2  https://ecom-su-static-prod.wtrecom.com/images...   \n",
       "3  https://ecom-su-static-prod.wtrecom.com/images...   \n",
       "4  https://ecom-su-static-prod.wtrecom.com/images...   \n",
       "\n",
       "                                        product-page  \\\n",
       "0  https://www.waitrose.com/ecom/products/organix...   \n",
       "1  https://www.waitrose.com/ecom/products/organix...   \n",
       "2  https://www.waitrose.com/ecom/products/aptamil...   \n",
       "3  https://www.waitrose.com/ecom/products/essenti...   \n",
       "4  https://www.waitrose.com/ecom/products/organix...   \n",
       "\n",
       "                               product-name product-size item-price  \\\n",
       "0  Organix Raspberry & Apple Soft Oaty Bars        6x23g      £3.15   \n",
       "1             Organix Carrot Cake Oaty Bars        6x23g      £3.15   \n",
       "2                  Aptamil 2 Follow On Milk         800g     £13.50   \n",
       "3                      Essential Baby Wipes          80s        95p   \n",
       "4                  Organix Apple Rice Cakes          40g      £1.60   \n",
       "\n",
       "  price-per-unit offer-description              category  \n",
       "0     £2.29/100g               NaN  Baby, Child & Parent  \n",
       "1     £2.29/100g               NaN  Baby, Child & Parent  \n",
       "2      £16.88/kg               NaN  Baby, Child & Parent  \n",
       "3      1.2p each               NaN  Baby, Child & Parent  \n",
       "4        £4/100g               NaN  Baby, Child & Parent  "
      ]
     },
     "execution_count": 46,
     "metadata": {},
     "output_type": "execute_result"
    }
   ],
   "source": [
    "df.head()"
   ]
  },
  {
   "cell_type": "markdown",
   "metadata": {},
   "source": [
    "### Data preprocessing"
   ]
  },
  {
   "cell_type": "code",
   "execution_count": 47,
   "metadata": {},
   "outputs": [
    {
     "name": "stdout",
     "output_type": "stream",
     "text": [
      "<class 'pandas.core.frame.DataFrame'>\n",
      "Index: 25418 entries, 0 to 1593\n",
      "Data columns (total 13 columns):\n",
      " #   Column                 Non-Null Count  Dtype  \n",
      "---  ------                 --------------  -----  \n",
      " 0   data-product-id        25418 non-null  int64  \n",
      " 1   data-product-name      25418 non-null  object \n",
      " 2   data-product-type      25418 non-null  object \n",
      " 3   data-product-on-offer  25418 non-null  bool   \n",
      " 4   data-product-index     25408 non-null  float64\n",
      " 5   image-url              25418 non-null  object \n",
      " 6   product-page           25418 non-null  object \n",
      " 7   product-name           25407 non-null  object \n",
      " 8   product-size           25363 non-null  object \n",
      " 9   item-price             25407 non-null  object \n",
      " 10  price-per-unit         24976 non-null  object \n",
      " 11  offer-description      7201 non-null   object \n",
      " 12  category               25418 non-null  object \n",
      "dtypes: bool(1), float64(1), int64(1), object(10)\n",
      "memory usage: 19.8 MB\n"
     ]
    }
   ],
   "source": [
    "df.info(memory_usage='deep')"
   ]
  },
  {
   "cell_type": "markdown",
   "metadata": {},
   "source": [
    "#### Rename the columns"
   ]
  },
  {
   "cell_type": "code",
   "execution_count": 48,
   "metadata": {},
   "outputs": [],
   "source": [
    "df = (\n",
    "    df.rename(columns = {\n",
    "        'data-product-id':'id',\n",
    "        'data-product-on-offer':'offer',\n",
    "        'product-page':'page',\n",
    "        'product-name':'name',\n",
    "        'product-size':'size',\n",
    "        'item-price':'price',\n",
    "        'data-product-name':'data_product_name',\n",
    "        'price-per-unit':'price_per_unit',\n",
    "        'data-product-type':'product_type',\n",
    "        'data-product-index':'product_index'\n",
    "    })\n",
    ")"
   ]
  },
  {
   "cell_type": "markdown",
   "metadata": {},
   "source": [
    "#### Drop unwanted columns"
   ]
  },
  {
   "cell_type": "code",
   "execution_count": 49,
   "metadata": {},
   "outputs": [],
   "source": [
    "df = df.drop(columns = ['image-url','page','offer-description','data_product_name','product_type','product_index'])"
   ]
  },
  {
   "cell_type": "code",
   "execution_count": 50,
   "metadata": {},
   "outputs": [
    {
     "name": "stdout",
     "output_type": "stream",
     "text": [
      "<class 'pandas.core.frame.DataFrame'>\n",
      "Index: 25418 entries, 0 to 1593\n",
      "Data columns (total 7 columns):\n",
      " #   Column          Non-Null Count  Dtype \n",
      "---  ------          --------------  ----- \n",
      " 0   id              25418 non-null  int64 \n",
      " 1   offer           25418 non-null  bool  \n",
      " 2   name            25407 non-null  object\n",
      " 3   size            25363 non-null  object\n",
      " 4   price           25407 non-null  object\n",
      " 5   price_per_unit  24976 non-null  object\n",
      " 6   category        25418 non-null  object\n",
      "dtypes: bool(1), int64(1), object(5)\n",
      "memory usage: 8.7 MB\n"
     ]
    }
   ],
   "source": [
    "df.info(memory_usage='deep')"
   ]
  },
  {
   "cell_type": "markdown",
   "metadata": {},
   "source": [
    "#### id (`int64` into `int32`) and category (`object` into `category`)"
   ]
  },
  {
   "cell_type": "code",
   "execution_count": 51,
   "metadata": {},
   "outputs": [],
   "source": [
    "df.drop_duplicates(inplace=True)"
   ]
  },
  {
   "cell_type": "code",
   "execution_count": 52,
   "metadata": {},
   "outputs": [
    {
     "data": {
      "text/plain": [
       "(25378, 7)"
      ]
     },
     "execution_count": 52,
     "metadata": {},
     "output_type": "execute_result"
    }
   ],
   "source": [
    "df.shape"
   ]
  },
  {
   "cell_type": "code",
   "execution_count": 53,
   "metadata": {},
   "outputs": [],
   "source": [
    "df['id'] = df['id'].astype('int32')\n",
    "df['category'] = df['category'].astype('category')\n",
    "#df['product_type'] = df['product_type'].astype('category')"
   ]
  },
  {
   "cell_type": "code",
   "execution_count": 54,
   "metadata": {},
   "outputs": [
    {
     "data": {
      "text/plain": [
       "name\n",
       "019521 - Essential Flageolet Beans in Water      3\n",
       "035738 - Solero Exotic Ice cream Lolly           3\n",
       "044889 - Essential Double Cream Large            2\n",
       "060167 - Kronenbourg 1664 Cans                   1\n",
       "086143 - Cooks' Ingredients Garlic               3\n",
       "                                                ..\n",
       "£100,000 a Month for a Year Scratchcard          1\n",
       "Öpso Japanese Sakura Tree Reed Diffuser          2\n",
       "Öpso Mediterranean Citrus Grove Reed Diffuser    2\n",
       "Öpso Nordic Birch Forest Reed Diffuser           2\n",
       "Ürziger Würzgarten Kabinett Loosen               2\n",
       "Name: category, Length: 15418, dtype: int64"
      ]
     },
     "execution_count": 54,
     "metadata": {},
     "output_type": "execute_result"
    }
   ],
   "source": [
    "category_counts = df.groupby('name')['category'].nunique()\n",
    "category_counts"
   ]
  },
  {
   "cell_type": "code",
   "execution_count": 55,
   "metadata": {},
   "outputs": [
    {
     "data": {
      "text/plain": [
       "Index(['019521 - Essential Flageolet Beans in Water',\n",
       "       '035738 - Solero Exotic Ice cream Lolly',\n",
       "       '044889 - Essential Double Cream Large',\n",
       "       '086143 - Cooks' Ingredients Garlic',\n",
       "       '10 Mins to Bed Where's Little Dinosaur'],\n",
       "      dtype='object', name='name')"
      ]
     },
     "execution_count": 55,
     "metadata": {},
     "output_type": "execute_result"
    }
   ],
   "source": [
    "multi_category_products = category_counts[category_counts > 1].index\n",
    "multi_category_products[0:5]"
   ]
  },
  {
   "cell_type": "code",
   "execution_count": 56,
   "metadata": {},
   "outputs": [],
   "source": [
    "df['category'] = df.groupby('name')['category'].transform(lambda x: ', '.join(x.unique()))"
   ]
  },
  {
   "cell_type": "code",
   "execution_count": 57,
   "metadata": {},
   "outputs": [
    {
     "data": {
      "text/html": [
       "<div>\n",
       "<style scoped>\n",
       "    .dataframe tbody tr th:only-of-type {\n",
       "        vertical-align: middle;\n",
       "    }\n",
       "\n",
       "    .dataframe tbody tr th {\n",
       "        vertical-align: top;\n",
       "    }\n",
       "\n",
       "    .dataframe thead th {\n",
       "        text-align: right;\n",
       "    }\n",
       "</style>\n",
       "<table border=\"1\" class=\"dataframe\">\n",
       "  <thead>\n",
       "    <tr style=\"text-align: right;\">\n",
       "      <th></th>\n",
       "      <th>id</th>\n",
       "      <th>offer</th>\n",
       "      <th>name</th>\n",
       "      <th>size</th>\n",
       "      <th>price</th>\n",
       "      <th>price_per_unit</th>\n",
       "      <th>category</th>\n",
       "    </tr>\n",
       "  </thead>\n",
       "  <tbody>\n",
       "    <tr>\n",
       "      <th>0</th>\n",
       "      <td>525635</td>\n",
       "      <td>False</td>\n",
       "      <td>Organix Raspberry &amp; Apple Soft Oaty Bars</td>\n",
       "      <td>6x23g</td>\n",
       "      <td>£3.15</td>\n",
       "      <td>£2.29/100g</td>\n",
       "      <td>Baby, Child &amp; Parent</td>\n",
       "    </tr>\n",
       "    <tr>\n",
       "      <th>1</th>\n",
       "      <td>557746</td>\n",
       "      <td>False</td>\n",
       "      <td>Organix Carrot Cake Oaty Bars</td>\n",
       "      <td>6x23g</td>\n",
       "      <td>£3.15</td>\n",
       "      <td>£2.29/100g</td>\n",
       "      <td>Baby, Child &amp; Parent</td>\n",
       "    </tr>\n",
       "    <tr>\n",
       "      <th>2</th>\n",
       "      <td>32062</td>\n",
       "      <td>False</td>\n",
       "      <td>Aptamil 2 Follow On Milk</td>\n",
       "      <td>800g</td>\n",
       "      <td>£13.50</td>\n",
       "      <td>£16.88/kg</td>\n",
       "      <td>Baby, Child &amp; Parent, Toiletries, Health &amp; Beauty</td>\n",
       "    </tr>\n",
       "    <tr>\n",
       "      <th>3</th>\n",
       "      <td>767801</td>\n",
       "      <td>False</td>\n",
       "      <td>Essential Baby Wipes</td>\n",
       "      <td>80s</td>\n",
       "      <td>95p</td>\n",
       "      <td>1.2p each</td>\n",
       "      <td>Baby, Child &amp; Parent, Summer, Toiletries, Heal...</td>\n",
       "    </tr>\n",
       "    <tr>\n",
       "      <th>4</th>\n",
       "      <td>514054</td>\n",
       "      <td>False</td>\n",
       "      <td>Organix Apple Rice Cakes</td>\n",
       "      <td>40g</td>\n",
       "      <td>£1.60</td>\n",
       "      <td>£4/100g</td>\n",
       "      <td>Baby, Child &amp; Parent, Dietary &amp; Lifestyle</td>\n",
       "    </tr>\n",
       "    <tr>\n",
       "      <th>...</th>\n",
       "      <td>...</td>\n",
       "      <td>...</td>\n",
       "      <td>...</td>\n",
       "      <td>...</td>\n",
       "      <td>...</td>\n",
       "      <td>...</td>\n",
       "      <td>...</td>\n",
       "    </tr>\n",
       "    <tr>\n",
       "      <th>1589</th>\n",
       "      <td>18427</td>\n",
       "      <td>False</td>\n",
       "      <td>Duchy Organic British Lamb Half Leg</td>\n",
       "      <td>Typical weight 0.94kg</td>\n",
       "      <td>£24.31 each est.</td>\n",
       "      <td>£26.00/kg</td>\n",
       "      <td>Best of British, Fresh &amp; Chilled, Organic Shop...</td>\n",
       "    </tr>\n",
       "    <tr>\n",
       "      <th>1590</th>\n",
       "      <td>11606</td>\n",
       "      <td>False</td>\n",
       "      <td>Cooks' Ingredients Wok Oil</td>\n",
       "      <td>250ml</td>\n",
       "      <td>£2.40</td>\n",
       "      <td>96p/100ml</td>\n",
       "      <td>Food Cupboard, Waitrose Brands</td>\n",
       "    </tr>\n",
       "    <tr>\n",
       "      <th>1591</th>\n",
       "      <td>6903</td>\n",
       "      <td>False</td>\n",
       "      <td>No. 1 Badoz Vacherin Du Haut-Doubs AOP French ...</td>\n",
       "      <td>350g</td>\n",
       "      <td>£10.00</td>\n",
       "      <td>£28.58/kg</td>\n",
       "      <td>Fresh &amp; Chilled, Waitrose Brands</td>\n",
       "    </tr>\n",
       "    <tr>\n",
       "      <th>1592</th>\n",
       "      <td>6125</td>\n",
       "      <td>False</td>\n",
       "      <td>Cooks' Ingredients White Marzipan</td>\n",
       "      <td>500g</td>\n",
       "      <td>£2.50</td>\n",
       "      <td>£5/kg</td>\n",
       "      <td>Food Cupboard, Waitrose Brands</td>\n",
       "    </tr>\n",
       "    <tr>\n",
       "      <th>1593</th>\n",
       "      <td>707668</td>\n",
       "      <td>False</td>\n",
       "      <td>Duchy Organic Pinot Grigio Bag in Box</td>\n",
       "      <td>2.25L</td>\n",
       "      <td>£21.49</td>\n",
       "      <td>£7.17/75cl</td>\n",
       "      <td>Beer, Wine &amp; Spirits, Organic Shop, Summer, Wa...</td>\n",
       "    </tr>\n",
       "  </tbody>\n",
       "</table>\n",
       "<p>25378 rows × 7 columns</p>\n",
       "</div>"
      ],
      "text/plain": [
       "          id  offer                                               name  \\\n",
       "0     525635  False           Organix Raspberry & Apple Soft Oaty Bars   \n",
       "1     557746  False                      Organix Carrot Cake Oaty Bars   \n",
       "2      32062  False                           Aptamil 2 Follow On Milk   \n",
       "3     767801  False                               Essential Baby Wipes   \n",
       "4     514054  False                           Organix Apple Rice Cakes   \n",
       "...      ...    ...                                                ...   \n",
       "1589   18427  False                Duchy Organic British Lamb Half Leg   \n",
       "1590   11606  False                         Cooks' Ingredients Wok Oil   \n",
       "1591    6903  False  No. 1 Badoz Vacherin Du Haut-Doubs AOP French ...   \n",
       "1592    6125  False                  Cooks' Ingredients White Marzipan   \n",
       "1593  707668  False              Duchy Organic Pinot Grigio Bag in Box   \n",
       "\n",
       "                       size             price price_per_unit  \\\n",
       "0                     6x23g             £3.15     £2.29/100g   \n",
       "1                     6x23g             £3.15     £2.29/100g   \n",
       "2                      800g            £13.50      £16.88/kg   \n",
       "3                       80s               95p      1.2p each   \n",
       "4                       40g             £1.60        £4/100g   \n",
       "...                     ...               ...            ...   \n",
       "1589  Typical weight 0.94kg  £24.31 each est.      £26.00/kg   \n",
       "1590                  250ml             £2.40      96p/100ml   \n",
       "1591                   350g            £10.00      £28.58/kg   \n",
       "1592                   500g             £2.50          £5/kg   \n",
       "1593                  2.25L            £21.49     £7.17/75cl   \n",
       "\n",
       "                                               category  \n",
       "0                                  Baby, Child & Parent  \n",
       "1                                  Baby, Child & Parent  \n",
       "2     Baby, Child & Parent, Toiletries, Health & Beauty  \n",
       "3     Baby, Child & Parent, Summer, Toiletries, Heal...  \n",
       "4             Baby, Child & Parent, Dietary & Lifestyle  \n",
       "...                                                 ...  \n",
       "1589  Best of British, Fresh & Chilled, Organic Shop...  \n",
       "1590                     Food Cupboard, Waitrose Brands  \n",
       "1591                   Fresh & Chilled, Waitrose Brands  \n",
       "1592                     Food Cupboard, Waitrose Brands  \n",
       "1593  Beer, Wine & Spirits, Organic Shop, Summer, Wa...  \n",
       "\n",
       "[25378 rows x 7 columns]"
      ]
     },
     "execution_count": 57,
     "metadata": {},
     "output_type": "execute_result"
    }
   ],
   "source": [
    "df"
   ]
  },
  {
   "cell_type": "code",
   "execution_count": 58,
   "metadata": {},
   "outputs": [
    {
     "data": {
      "text/plain": [
       "(25378, 7)"
      ]
     },
     "execution_count": 58,
     "metadata": {},
     "output_type": "execute_result"
    }
   ],
   "source": [
    "df.shape"
   ]
  },
  {
   "cell_type": "code",
   "execution_count": 59,
   "metadata": {},
   "outputs": [],
   "source": [
    "df.drop_duplicates(inplace = True)"
   ]
  },
  {
   "cell_type": "code",
   "execution_count": 60,
   "metadata": {},
   "outputs": [
    {
     "data": {
      "text/plain": [
       "(16065, 7)"
      ]
     },
     "execution_count": 60,
     "metadata": {},
     "output_type": "execute_result"
    }
   ],
   "source": [
    "df.shape"
   ]
  },
  {
   "cell_type": "code",
   "execution_count": 61,
   "metadata": {},
   "outputs": [
    {
     "name": "stdout",
     "output_type": "stream",
     "text": [
      "<class 'pandas.core.frame.DataFrame'>\n",
      "Index: 16065 entries, 0 to 1438\n",
      "Data columns (total 7 columns):\n",
      " #   Column          Non-Null Count  Dtype \n",
      "---  ------          --------------  ----- \n",
      " 0   id              16065 non-null  int32 \n",
      " 1   offer           16065 non-null  bool  \n",
      " 2   name            16054 non-null  object\n",
      " 3   size            16028 non-null  object\n",
      " 4   price           16054 non-null  object\n",
      " 5   price_per_unit  15713 non-null  object\n",
      " 6   category        16054 non-null  object\n",
      "dtypes: bool(1), int32(1), object(5)\n",
      "memory usage: 5.6 MB\n"
     ]
    }
   ],
   "source": [
    "df.info(memory_usage='deep')"
   ]
  },
  {
   "cell_type": "markdown",
   "metadata": {},
   "source": [
    "### Data cleansing and change the appropriate data types"
   ]
  },
  {
   "cell_type": "code",
   "execution_count": 62,
   "metadata": {},
   "outputs": [],
   "source": [
    "def clean_price(price):\n",
    "    if isinstance(price,str):\n",
    "        if '£' in price:\n",
    "            price = price.replace('£','').replace('each est.','').replace('-','').strip()\n",
    "        elif 'p' in price:\n",
    "            price = '0.' + price.replace('p','').replace('each est.','').replace('-','').strip()\n",
    "\n",
    "    return float(price)"
   ]
  },
  {
   "cell_type": "code",
   "execution_count": 63,
   "metadata": {},
   "outputs": [],
   "source": [
    "df['price'] = df['price'].apply(clean_price)"
   ]
  },
  {
   "cell_type": "code",
   "execution_count": 64,
   "metadata": {},
   "outputs": [
    {
     "name": "stdout",
     "output_type": "stream",
     "text": [
      "<class 'pandas.core.frame.DataFrame'>\n",
      "Index: 16065 entries, 0 to 1438\n",
      "Data columns (total 7 columns):\n",
      " #   Column          Non-Null Count  Dtype  \n",
      "---  ------          --------------  -----  \n",
      " 0   id              16065 non-null  int32  \n",
      " 1   offer           16065 non-null  bool   \n",
      " 2   name            16054 non-null  object \n",
      " 3   size            16028 non-null  object \n",
      " 4   price           16054 non-null  float64\n",
      " 5   price_per_unit  15713 non-null  object \n",
      " 6   category        16054 non-null  object \n",
      "dtypes: bool(1), float64(1), int32(1), object(4)\n",
      "memory usage: 4.6 MB\n"
     ]
    }
   ],
   "source": [
    "df.info(memory_usage='deep')"
   ]
  },
  {
   "cell_type": "code",
   "execution_count": 65,
   "metadata": {},
   "outputs": [
    {
     "data": {
      "text/html": [
       "<div>\n",
       "<style scoped>\n",
       "    .dataframe tbody tr th:only-of-type {\n",
       "        vertical-align: middle;\n",
       "    }\n",
       "\n",
       "    .dataframe tbody tr th {\n",
       "        vertical-align: top;\n",
       "    }\n",
       "\n",
       "    .dataframe thead th {\n",
       "        text-align: right;\n",
       "    }\n",
       "</style>\n",
       "<table border=\"1\" class=\"dataframe\">\n",
       "  <thead>\n",
       "    <tr style=\"text-align: right;\">\n",
       "      <th></th>\n",
       "      <th>id</th>\n",
       "      <th>offer</th>\n",
       "      <th>name</th>\n",
       "      <th>size</th>\n",
       "      <th>price</th>\n",
       "      <th>price_per_unit</th>\n",
       "      <th>category</th>\n",
       "    </tr>\n",
       "  </thead>\n",
       "  <tbody>\n",
       "    <tr>\n",
       "      <th>0</th>\n",
       "      <td>525635</td>\n",
       "      <td>False</td>\n",
       "      <td>Organix Raspberry &amp; Apple Soft Oaty Bars</td>\n",
       "      <td>6x23g</td>\n",
       "      <td>3.15</td>\n",
       "      <td>£2.29/100g</td>\n",
       "      <td>Baby, Child &amp; Parent</td>\n",
       "    </tr>\n",
       "    <tr>\n",
       "      <th>1</th>\n",
       "      <td>557746</td>\n",
       "      <td>False</td>\n",
       "      <td>Organix Carrot Cake Oaty Bars</td>\n",
       "      <td>6x23g</td>\n",
       "      <td>3.15</td>\n",
       "      <td>£2.29/100g</td>\n",
       "      <td>Baby, Child &amp; Parent</td>\n",
       "    </tr>\n",
       "    <tr>\n",
       "      <th>2</th>\n",
       "      <td>32062</td>\n",
       "      <td>False</td>\n",
       "      <td>Aptamil 2 Follow On Milk</td>\n",
       "      <td>800g</td>\n",
       "      <td>13.50</td>\n",
       "      <td>£16.88/kg</td>\n",
       "      <td>Baby, Child &amp; Parent, Toiletries, Health &amp; Beauty</td>\n",
       "    </tr>\n",
       "    <tr>\n",
       "      <th>3</th>\n",
       "      <td>767801</td>\n",
       "      <td>False</td>\n",
       "      <td>Essential Baby Wipes</td>\n",
       "      <td>80s</td>\n",
       "      <td>0.95</td>\n",
       "      <td>1.2p each</td>\n",
       "      <td>Baby, Child &amp; Parent, Summer, Toiletries, Heal...</td>\n",
       "    </tr>\n",
       "    <tr>\n",
       "      <th>4</th>\n",
       "      <td>514054</td>\n",
       "      <td>False</td>\n",
       "      <td>Organix Apple Rice Cakes</td>\n",
       "      <td>40g</td>\n",
       "      <td>1.60</td>\n",
       "      <td>£4/100g</td>\n",
       "      <td>Baby, Child &amp; Parent, Dietary &amp; Lifestyle</td>\n",
       "    </tr>\n",
       "    <tr>\n",
       "      <th>5</th>\n",
       "      <td>671670</td>\n",
       "      <td>True</td>\n",
       "      <td>Pampers Baby Wipes</td>\n",
       "      <td>52s</td>\n",
       "      <td>1.50</td>\n",
       "      <td>2.9p each</td>\n",
       "      <td>Baby, Child &amp; Parent</td>\n",
       "    </tr>\n",
       "    <tr>\n",
       "      <th>6</th>\n",
       "      <td>844281</td>\n",
       "      <td>False</td>\n",
       "      <td>Kendamil First Infant Milk Ready To Feed</td>\n",
       "      <td>250ml</td>\n",
       "      <td>1.20</td>\n",
       "      <td>48p/100ml</td>\n",
       "      <td>Baby, Child &amp; Parent</td>\n",
       "    </tr>\n",
       "    <tr>\n",
       "      <th>7</th>\n",
       "      <td>847776</td>\n",
       "      <td>True</td>\n",
       "      <td>Ella's Kitchen Puree Prunes</td>\n",
       "      <td>70g</td>\n",
       "      <td>1.00</td>\n",
       "      <td>£1.43/100g</td>\n",
       "      <td>Baby, Child &amp; Parent, Dietary &amp; Lifestyle, Org...</td>\n",
       "    </tr>\n",
       "    <tr>\n",
       "      <th>8</th>\n",
       "      <td>575652</td>\n",
       "      <td>True</td>\n",
       "      <td>Waterwipes Biodegradable</td>\n",
       "      <td>60s</td>\n",
       "      <td>2.50</td>\n",
       "      <td>4.2p each</td>\n",
       "      <td>Baby, Child &amp; Parent</td>\n",
       "    </tr>\n",
       "    <tr>\n",
       "      <th>9</th>\n",
       "      <td>704723</td>\n",
       "      <td>False</td>\n",
       "      <td>Waitrose Mini Nappy Sacks</td>\n",
       "      <td>75s</td>\n",
       "      <td>1.00</td>\n",
       "      <td>1.3p each</td>\n",
       "      <td>Baby, Child &amp; Parent, Waitrose Brands</td>\n",
       "    </tr>\n",
       "  </tbody>\n",
       "</table>\n",
       "</div>"
      ],
      "text/plain": [
       "       id  offer                                      name   size  price  \\\n",
       "0  525635  False  Organix Raspberry & Apple Soft Oaty Bars  6x23g   3.15   \n",
       "1  557746  False             Organix Carrot Cake Oaty Bars  6x23g   3.15   \n",
       "2   32062  False                  Aptamil 2 Follow On Milk   800g  13.50   \n",
       "3  767801  False                      Essential Baby Wipes    80s   0.95   \n",
       "4  514054  False                  Organix Apple Rice Cakes    40g   1.60   \n",
       "5  671670   True                        Pampers Baby Wipes    52s   1.50   \n",
       "6  844281  False  Kendamil First Infant Milk Ready To Feed  250ml   1.20   \n",
       "7  847776   True               Ella's Kitchen Puree Prunes    70g   1.00   \n",
       "8  575652   True                  Waterwipes Biodegradable    60s   2.50   \n",
       "9  704723  False                 Waitrose Mini Nappy Sacks    75s   1.00   \n",
       "\n",
       "  price_per_unit                                           category  \n",
       "0     £2.29/100g                               Baby, Child & Parent  \n",
       "1     £2.29/100g                               Baby, Child & Parent  \n",
       "2      £16.88/kg  Baby, Child & Parent, Toiletries, Health & Beauty  \n",
       "3      1.2p each  Baby, Child & Parent, Summer, Toiletries, Heal...  \n",
       "4        £4/100g          Baby, Child & Parent, Dietary & Lifestyle  \n",
       "5      2.9p each                               Baby, Child & Parent  \n",
       "6      48p/100ml                               Baby, Child & Parent  \n",
       "7     £1.43/100g  Baby, Child & Parent, Dietary & Lifestyle, Org...  \n",
       "8      4.2p each                               Baby, Child & Parent  \n",
       "9      1.3p each              Baby, Child & Parent, Waitrose Brands  "
      ]
     },
     "execution_count": 65,
     "metadata": {},
     "output_type": "execute_result"
    }
   ],
   "source": [
    "df.head(10)"
   ]
  },
  {
   "cell_type": "code",
   "execution_count": 66,
   "metadata": {},
   "outputs": [
    {
     "data": {
      "text/plain": [
       "\"rep_prod = df.groupby('data_product_name')['category'].nunique()\\nmore_prod = rep_prod[rep_prod>1].index\\ndf = df[(df['data_product_name'].isin(more_prod) & ~df.duplicated(subset = 'data_product_name')) |\\n         (~df['data_product_name'].isin(more_prod))]\""
      ]
     },
     "execution_count": 66,
     "metadata": {},
     "output_type": "execute_result"
    }
   ],
   "source": [
    "'''rep_prod = df.groupby('data_product_name')['category'].nunique()\n",
    "more_prod = rep_prod[rep_prod>1].index\n",
    "df = df[(df['data_product_name'].isin(more_prod) & ~df.duplicated(subset = 'data_product_name')) |\n",
    "         (~df['data_product_name'].isin(more_prod))]'''"
   ]
  },
  {
   "cell_type": "code",
   "execution_count": 67,
   "metadata": {},
   "outputs": [
    {
     "data": {
      "text/plain": [
       "\"check = df.groupby('data_product_name')['category'].nunique()\\ncheck[check > 1].sum()\""
      ]
     },
     "execution_count": 67,
     "metadata": {},
     "output_type": "execute_result"
    }
   ],
   "source": [
    "'''check = df.groupby('data_product_name')['category'].nunique()\n",
    "check[check > 1].sum()'''"
   ]
  },
  {
   "cell_type": "code",
   "execution_count": 68,
   "metadata": {},
   "outputs": [
    {
     "name": "stdout",
     "output_type": "stream",
     "text": [
      "<class 'pandas.core.frame.DataFrame'>\n",
      "Index: 16065 entries, 0 to 1438\n",
      "Data columns (total 7 columns):\n",
      " #   Column          Non-Null Count  Dtype  \n",
      "---  ------          --------------  -----  \n",
      " 0   id              16065 non-null  int32  \n",
      " 1   offer           16065 non-null  bool   \n",
      " 2   name            16054 non-null  object \n",
      " 3   size            16028 non-null  object \n",
      " 4   price           16054 non-null  float64\n",
      " 5   price_per_unit  15713 non-null  object \n",
      " 6   category        16054 non-null  object \n",
      "dtypes: bool(1), float64(1), int32(1), object(4)\n",
      "memory usage: 4.6 MB\n"
     ]
    }
   ],
   "source": [
    "df.info(memory_usage='deep')"
   ]
  },
  {
   "cell_type": "code",
   "execution_count": 69,
   "metadata": {},
   "outputs": [],
   "source": [
    "#df['category_description'] = df['category'].apply(lambda x: 'Essential' if 'Everyday' in str(x) else 'Non-essential')"
   ]
  },
  {
   "cell_type": "code",
   "execution_count": 70,
   "metadata": {},
   "outputs": [],
   "source": [
    "#least_five = df[df['category_description'] == 'Non-essential'].nsmallest(5,'price')[['name','price','category_description']][::-1]"
   ]
  },
  {
   "cell_type": "code",
   "execution_count": 71,
   "metadata": {},
   "outputs": [],
   "source": [
    "#least_five"
   ]
  },
  {
   "cell_type": "code",
   "execution_count": 72,
   "metadata": {},
   "outputs": [],
   "source": [
    "#top_five = df[df['category_description'] == 'Essential'].nlargest(5,'price')[['name','price','category_description']][::-1]"
   ]
  },
  {
   "cell_type": "code",
   "execution_count": 73,
   "metadata": {},
   "outputs": [],
   "source": [
    "#top_five"
   ]
  },
  {
   "cell_type": "code",
   "execution_count": 74,
   "metadata": {},
   "outputs": [],
   "source": [
    "# Filter rows based on the given conditions\n",
    "blu = df[\n",
    "    df['name'].str.contains('blueberries', case=False, na=False) & \n",
    "     (df['category'].str.contains('everyday', case=False, na=False) | \n",
    "    ~df['category'].str.contains('everyday', case=False, na=False))\n",
    "]\n"
   ]
  },
  {
   "cell_type": "markdown",
   "metadata": {},
   "source": [
    "- Waitrose 4 Blueberry Pancakes\n",
    "- Waitrose Mixed Berries\n",
    "- Essential 4 Blueberry Muffins\n",
    "- Waitrose Essential Blueberry Wheats\n",
    "- Benecol Blueberry Yogurt Drinks\n",
    "- Bonne Maman Blueberry Yogurt\n",
    "- Waitrose 2 Juicy Blueberry Muffins\n",
    "- Graze Lemon Blueberry Oat Boosts\n",
    "- Actimel Immunity Blueberry Live Yogurt Drinks\n",
    "- nakd. Blueberry Muffin Fruit & Nut Bars Multipack\n",
    "- Activia Strawberry, Raspberry, Cherry & Blueberry No Added Sugar Gut Health Yogurt Multipack\n",
    "- Activia Fusion Blueberry Acai Gut Health Yogurts\n",
    "- St. Dalfour Blueberry Spread"
   ]
  },
  {
   "cell_type": "markdown",
   "metadata": {},
   "source": [
    "- Jordans Frusli Juicy Blueberries Cereal Bars\n",
    "- Ella's Kitchen"
   ]
  },
  {
   "cell_type": "code",
   "execution_count": null,
   "metadata": {},
   "outputs": [
    {
     "data": {
      "text/html": [
       "<div>\n",
       "<style scoped>\n",
       "    .dataframe tbody tr th:only-of-type {\n",
       "        vertical-align: middle;\n",
       "    }\n",
       "\n",
       "    .dataframe tbody tr th {\n",
       "        vertical-align: top;\n",
       "    }\n",
       "\n",
       "    .dataframe thead th {\n",
       "        text-align: right;\n",
       "    }\n",
       "</style>\n",
       "<table border=\"1\" class=\"dataframe\">\n",
       "  <thead>\n",
       "    <tr style=\"text-align: right;\">\n",
       "      <th></th>\n",
       "      <th>name</th>\n",
       "      <th>price</th>\n",
       "      <th>size</th>\n",
       "      <th>new_price</th>\n",
       "    </tr>\n",
       "  </thead>\n",
       "  <tbody>\n",
       "    <tr>\n",
       "      <th>25</th>\n",
       "      <td>Waitrose Blueberries</td>\n",
       "      <td>2.50</td>\n",
       "      <td>150g</td>\n",
       "      <td>16.666667</td>\n",
       "    </tr>\n",
       "    <tr>\n",
       "      <th>34</th>\n",
       "      <td>Essential Blueberries</td>\n",
       "      <td>2.00</td>\n",
       "      <td>150g</td>\n",
       "      <td>13.333333</td>\n",
       "    </tr>\n",
       "    <tr>\n",
       "      <th>42</th>\n",
       "      <td>Duchy Organic Blueberries</td>\n",
       "      <td>2.50</td>\n",
       "      <td>125g</td>\n",
       "      <td>20.000000</td>\n",
       "    </tr>\n",
       "    <tr>\n",
       "      <th>60</th>\n",
       "      <td>Waitrose Blueberries</td>\n",
       "      <td>4.60</td>\n",
       "      <td>360g</td>\n",
       "      <td>12.777778</td>\n",
       "    </tr>\n",
       "    <tr>\n",
       "      <th>66</th>\n",
       "      <td>Waitrose Blueberries</td>\n",
       "      <td>3.50</td>\n",
       "      <td>225g</td>\n",
       "      <td>15.555556</td>\n",
       "    </tr>\n",
       "    <tr>\n",
       "      <th>101</th>\n",
       "      <td>Essential Frozen Blueberries</td>\n",
       "      <td>2.35</td>\n",
       "      <td>400g</td>\n",
       "      <td>5.875000</td>\n",
       "    </tr>\n",
       "    <tr>\n",
       "      <th>2623</th>\n",
       "      <td>Waitrose Dried Blueberries</td>\n",
       "      <td>3.95</td>\n",
       "      <td>100g</td>\n",
       "      <td>39.500000</td>\n",
       "    </tr>\n",
       "    <tr>\n",
       "      <th>3927</th>\n",
       "      <td>Urban Fruit Gently Baked Blueberries</td>\n",
       "      <td>2.75</td>\n",
       "      <td>75g</td>\n",
       "      <td>36.666667</td>\n",
       "    </tr>\n",
       "    <tr>\n",
       "      <th>2789</th>\n",
       "      <td>No.1 Speciality Blueberries</td>\n",
       "      <td>3.80</td>\n",
       "      <td>225g</td>\n",
       "      <td>16.888889</td>\n",
       "    </tr>\n",
       "  </tbody>\n",
       "</table>\n",
       "</div>"
      ],
      "text/plain": [
       "                                      name  price  size  new_price\n",
       "25                    Waitrose Blueberries   2.50  150g  16.666667\n",
       "34                   Essential Blueberries   2.00  150g  13.333333\n",
       "42               Duchy Organic Blueberries   2.50  125g  20.000000\n",
       "60                    Waitrose Blueberries   4.60  360g  12.777778\n",
       "66                    Waitrose Blueberries   3.50  225g  15.555556\n",
       "101           Essential Frozen Blueberries   2.35  400g   5.875000\n",
       "2623            Waitrose Dried Blueberries   3.95  100g  39.500000\n",
       "3927  Urban Fruit Gently Baked Blueberries   2.75   75g  36.666667\n",
       "2789           No.1 Speciality Blueberries   3.80  225g  16.888889"
      ]
     },
     "execution_count": 84,
     "metadata": {},
     "output_type": "execute_result"
    }
   ],
   "source": [
    "blue_remove = [\"Ella's Kitchen\",\"Jordans Frusli Juicy Blueberries Cereal Bars\",\"Peaches\",\"Apple\"]\n",
    "\n",
    "blueberries = blu[~blu['name'].str.contains('|'.join(blue_remove), case=False, na=False)]\n",
    "\n",
    "blu_plot = (\n",
    "    blueberries.assign(new_price = lambda s: s['price'] / s['size'].str.replace('g','').astype('float') * 1000,\n",
    "    price= lambda x: x['price'],\n",
    "    size = lambda x: x['size'])\n",
    ")\n",
    "\n",
    "\n",
    "\n",
    "blu_plot[['name','price','size','new_price']]"
   ]
  },
  {
   "cell_type": "code",
   "execution_count": 86,
   "metadata": {},
   "outputs": [
    {
     "data": {
      "text/html": [
       "<div>\n",
       "<style scoped>\n",
       "    .dataframe tbody tr th:only-of-type {\n",
       "        vertical-align: middle;\n",
       "    }\n",
       "\n",
       "    .dataframe tbody tr th {\n",
       "        vertical-align: top;\n",
       "    }\n",
       "\n",
       "    .dataframe thead th {\n",
       "        text-align: right;\n",
       "    }\n",
       "</style>\n",
       "<table border=\"1\" class=\"dataframe\">\n",
       "  <thead>\n",
       "    <tr style=\"text-align: right;\">\n",
       "      <th></th>\n",
       "      <th>name</th>\n",
       "      <th>new_price</th>\n",
       "    </tr>\n",
       "  </thead>\n",
       "  <tbody>\n",
       "    <tr>\n",
       "      <th>0</th>\n",
       "      <td>Waitrose Dried Blueberries</td>\n",
       "      <td>39.500000</td>\n",
       "    </tr>\n",
       "    <tr>\n",
       "      <th>1</th>\n",
       "      <td>Urban Fruit Gently Baked Blueberries</td>\n",
       "      <td>36.666667</td>\n",
       "    </tr>\n",
       "    <tr>\n",
       "      <th>2</th>\n",
       "      <td>Duchy Organic Blueberries</td>\n",
       "      <td>20.000000</td>\n",
       "    </tr>\n",
       "    <tr>\n",
       "      <th>3</th>\n",
       "      <td>No.1 Speciality Blueberries</td>\n",
       "      <td>16.888889</td>\n",
       "    </tr>\n",
       "    <tr>\n",
       "      <th>4</th>\n",
       "      <td>Waitrose Blueberries</td>\n",
       "      <td>15.000000</td>\n",
       "    </tr>\n",
       "    <tr>\n",
       "      <th>5</th>\n",
       "      <td>Essential Blueberries</td>\n",
       "      <td>13.333333</td>\n",
       "    </tr>\n",
       "    <tr>\n",
       "      <th>6</th>\n",
       "      <td>Essential Frozen Blueberries</td>\n",
       "      <td>5.875000</td>\n",
       "    </tr>\n",
       "  </tbody>\n",
       "</table>\n",
       "</div>"
      ],
      "text/plain": [
       "                                   name  new_price\n",
       "0            Waitrose Dried Blueberries  39.500000\n",
       "1  Urban Fruit Gently Baked Blueberries  36.666667\n",
       "2             Duchy Organic Blueberries  20.000000\n",
       "3           No.1 Speciality Blueberries  16.888889\n",
       "4                  Waitrose Blueberries  15.000000\n",
       "5                 Essential Blueberries  13.333333\n",
       "6          Essential Frozen Blueberries   5.875000"
      ]
     },
     "execution_count": 86,
     "metadata": {},
     "output_type": "execute_result"
    }
   ],
   "source": [
    "group_blue = blu_plot.groupby('name')['new_price'].mean().sort_values(ascending=False).to_frame().reset_index()\n",
    "group_blue"
   ]
  },
  {
   "cell_type": "code",
   "execution_count": 36,
   "metadata": {},
   "outputs": [],
   "source": [
    "milk = df[df['category'].str.contains('baby', case = False,na=False) & df['name'].str.contains('blueberry', case = False,na=False)]"
   ]
  },
  {
   "cell_type": "code",
   "execution_count": 37,
   "metadata": {},
   "outputs": [],
   "source": [
    "#combined = pd.concat([top_five,least_five])"
   ]
  },
  {
   "cell_type": "code",
   "execution_count": 38,
   "metadata": {},
   "outputs": [],
   "source": [
    "#combined = combined[::-1]"
   ]
  },
  {
   "cell_type": "code",
   "execution_count": null,
   "metadata": {},
   "outputs": [
    {
     "data": {
      "text/html": [
       "   <div id=\"gxyv0g\"></div>\n",
       "   <script type=\"text/javascript\" data-lets-plot-script=\"plot\">\n",
       "       (function() {\n",
       "           var plotSpec={\n",
       "\"data\":{\n",
       "\"name\":[\"Waitrose Dried Blueberries\",\"Urban Fruit Gently Baked Blueberries\",\"Duchy Organic Blueberries\",\"No.1 Speciality Blueberries\",\"Waitrose Blueberries\",\"Essential Blueberries\",\"Essential Frozen Blueberries\"],\n",
       "\"new_price\":[39.5,36.666666666666664,20.0,16.888888888888886,15.0,13.333333333333334,5.875]\n",
       "},\n",
       "\"mapping\":{\n",
       "\"x\":\"name\",\n",
       "\"y\":\"new_price\"\n",
       "},\n",
       "\"data_meta\":{\n",
       "\"series_annotations\":[{\n",
       "\"type\":\"str\",\n",
       "\"column\":\"name\"\n",
       "},{\n",
       "\"type\":\"float\",\n",
       "\"column\":\"new_price\"\n",
       "}]\n",
       "},\n",
       "\"ggtitle\":{\n",
       "\"text\":\"Price of Blueberries by Name\"\n",
       "},\n",
       "\"guides\":{\n",
       "\"x\":{\n",
       "\"title\":\"Product Name\"\n",
       "},\n",
       "\"y\":{\n",
       "\"title\":\"Price ($)\"\n",
       "}\n",
       "},\n",
       "\"theme\":{\n",
       "\"axis_text_x\":{\n",
       "\"hjust\":1.0,\n",
       "\"blank\":false\n",
       "},\n",
       "\"plot_title\":{\n",
       "\"face\":\"bold\",\n",
       "\"size\":14.0,\n",
       "\"blank\":false\n",
       "}\n",
       "},\n",
       "\"ggsize\":{\n",
       "\"width\":600.0,\n",
       "\"height\":800.0\n",
       "},\n",
       "\"kind\":\"plot\",\n",
       "\"scales\":[],\n",
       "\"layers\":[{\n",
       "\"geom\":\"line\",\n",
       "\"mapping\":{\n",
       "},\n",
       "\"data_meta\":{\n",
       "},\n",
       "\"color\":\"blue\",\n",
       "\"size\":1.2,\n",
       "\"data\":{\n",
       "}\n",
       "}],\n",
       "\"metainfo_list\":[]\n",
       "};\n",
       "           var plotContainer = document.getElementById(\"gxyv0g\");\n",
       "           window.letsPlotCall(function() {{\n",
       "               LetsPlot.buildPlotFromProcessedSpecs(plotSpec, -1, -1, plotContainer);\n",
       "           }});\n",
       "       })();\n",
       "   </script>"
      ],
      "text/plain": [
       "<lets_plot.plot.core.PlotSpec at 0x1cf7bbc1e20>"
      ]
     },
     "execution_count": 39,
     "metadata": {},
     "output_type": "execute_result"
    }
   ],
   "source": [
    "(\n",
    "    ggplot(group_blue, aes(x='name', y='new_price')) +\n",
    "    geom_line(color='blue', size=1.2) +\n",
    "    labs(\n",
    "        title='Price of Blueberries by Name',\n",
    "        x='Product Name',\n",
    "        y='Price ($)'\n",
    "    ) +  \n",
    "    theme(\n",
    "        axis_text_x=element_text(hjust=1),  \n",
    "        plot_title=element_text(size=14, face='bold')  \n",
    "    ) + ggsize(600, 800)\n",
    ")"
   ]
  },
  {
   "cell_type": "code",
   "execution_count": null,
   "metadata": {},
   "outputs": [],
   "source": []
  }
 ],
 "metadata": {
  "kernelspec": {
   "display_name": "Python 3",
   "language": "python",
   "name": "python3"
  },
  "language_info": {
   "codemirror_mode": {
    "name": "ipython",
    "version": 3
   },
   "file_extension": ".py",
   "mimetype": "text/x-python",
   "name": "python",
   "nbconvert_exporter": "python",
   "pygments_lexer": "ipython3",
   "version": "3.12.5"
  }
 },
 "nbformat": 4,
 "nbformat_minor": 2
}
